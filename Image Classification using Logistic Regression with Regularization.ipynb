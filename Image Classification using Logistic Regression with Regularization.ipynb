{
 "cells": [
  {
   "cell_type": "markdown",
   "metadata": {},
   "source": [
    "# Logistic Regression for Binary Classification on Handwritten Digits"
   ]
  },
  {
   "cell_type": "markdown",
   "metadata": {},
   "source": [
    "Using MNIST dataset to perform logistic regression for binary classification using MNIST dataset"
   ]
  },
  {
   "cell_type": "code",
   "execution_count": 1,
   "metadata": {},
   "outputs": [],
   "source": [
    "import numpy as np\n",
    "import pandas as pd \n",
    "from sklearn.datasets import fetch_openml\n",
    "import matplotlib.pyplot as plt"
   ]
  },
  {
   "cell_type": "markdown",
   "metadata": {},
   "source": [
    "### 1. Importing the data"
   ]
  },
  {
   "cell_type": "code",
   "execution_count": 2,
   "metadata": {},
   "outputs": [],
   "source": [
    "hdigits = fetch_openml('mnist_784', version = 1, cache=True)"
   ]
  },
  {
   "cell_type": "code",
   "execution_count": 3,
   "metadata": {},
   "outputs": [
    {
     "data": {
      "text/plain": [
       "array([[0., 0., 0., ..., 0., 0., 0.],\n",
       "       [0., 0., 0., ..., 0., 0., 0.],\n",
       "       [0., 0., 0., ..., 0., 0., 0.],\n",
       "       ...,\n",
       "       [0., 0., 0., ..., 0., 0., 0.],\n",
       "       [0., 0., 0., ..., 0., 0., 0.],\n",
       "       [0., 0., 0., ..., 0., 0., 0.]])"
      ]
     },
     "execution_count": 3,
     "metadata": {},
     "output_type": "execute_result"
    }
   ],
   "source": [
    "hdigits[\"data\"]"
   ]
  },
  {
   "cell_type": "code",
   "execution_count": 4,
   "metadata": {},
   "outputs": [
    {
     "data": {
      "text/plain": [
       "array(['5', '0', '4', ..., '4', '5', '6'], dtype=object)"
      ]
     },
     "execution_count": 4,
     "metadata": {},
     "output_type": "execute_result"
    }
   ],
   "source": [
    "hdigits[\"target\"]"
   ]
  },
  {
   "cell_type": "markdown",
   "metadata": {},
   "source": [
    "Filtering to retrieve images that have labels '5' or '6'"
   ]
  },
  {
   "cell_type": "code",
   "execution_count": 5,
   "metadata": {},
   "outputs": [
    {
     "data": {
      "text/plain": [
       "(array([    0,    11,    13, ..., 69989, 69998, 69999]),)"
      ]
     },
     "execution_count": 5,
     "metadata": {},
     "output_type": "execute_result"
    }
   ],
   "source": [
    "#filtering\n",
    "filter_ind = np.where((hdigits[\"target\"]==\"5\")|(hdigits[\"target\"]==\"6\"))\n",
    "filter_ind"
   ]
  },
  {
   "cell_type": "code",
   "execution_count": 6,
   "metadata": {},
   "outputs": [],
   "source": [
    "hdigits_X = np.array(hdigits[\"data\"])[filter_ind]\n",
    "hdigits_Y = np.array(hdigits[\"target\"])[filter_ind]"
   ]
  },
  {
   "cell_type": "code",
   "execution_count": 7,
   "metadata": {},
   "outputs": [
    {
     "data": {
      "text/plain": [
       "array(['5', '5', '6', ..., '6', '5', '6'], dtype=object)"
      ]
     },
     "execution_count": 7,
     "metadata": {},
     "output_type": "execute_result"
    }
   ],
   "source": [
    "hdigits_Y"
   ]
  },
  {
   "cell_type": "code",
   "execution_count": 8,
   "metadata": {},
   "outputs": [
    {
     "data": {
      "text/plain": [
       "((13189, 784), (13189,))"
      ]
     },
     "execution_count": 8,
     "metadata": {},
     "output_type": "execute_result"
    }
   ],
   "source": [
    "hdigits_X.shape, hdigits_Y.shape #verifying the shapes"
   ]
  },
  {
   "cell_type": "markdown",
   "metadata": {},
   "source": [
    "### 2. Splitting the data"
   ]
  },
  {
   "cell_type": "markdown",
   "metadata": {},
   "source": [
    "80% of the data will be used for training and the rest of the data will be used for testing."
   ]
  },
  {
   "cell_type": "code",
   "execution_count": 9,
   "metadata": {},
   "outputs": [],
   "source": [
    "from sklearn.model_selection import train_test_split"
   ]
  },
  {
   "cell_type": "code",
   "execution_count": 9,
   "metadata": {},
   "outputs": [],
   "source": [
    "#converting to integers\n",
    "hdigits_Y = hdigits_Y.astype(int)"
   ]
  },
  {
   "cell_type": "code",
   "execution_count": 10,
   "metadata": {},
   "outputs": [],
   "source": [
    "X_train, X_test, y_train, y_test = train_test_split(hdigits_X, hdigits_Y, test_size = 0.2)"
   ]
  },
  {
   "cell_type": "code",
   "execution_count": 11,
   "metadata": {},
   "outputs": [
    {
     "data": {
      "image/png": "[encoded data removed]",
      "text/plain": [
       "<Figure size 432x288 with 3 Axes>"
      ]
     },
     "metadata": {
      "needs_background": "light"
     },
     "output_type": "display_data"
    }
   ],
   "source": [
    "#visualize \n",
    "plt.figure()\n",
    "for index,(image,label) in enumerate(zip(X_train[0:3], y_train[0:3])):\n",
    "    plt.subplot(1,3,index+1)\n",
    "    plt.imshow(np.reshape(image,(28,28)),cmap = plt.cm.gray)\n",
    "    plt.title('Label:%i\\n'%int(label))"
   ]
  },
  {
   "cell_type": "markdown",
   "metadata": {},
   "source": [
    "### 3. Cross Validation for Tuning Hyperparameter Value (Squared Error)"
   ]
  },
  {
   "cell_type": "markdown",
   "metadata": {},
   "source": [
    "Run logistic regression on the training data with $\\ell_2$ norm, and use cross-validation and validation curve in order to choose the scale hyperparameter. Validation error serves as a proxy for test error under modeling assumption. Utilizing validation curve helps in locating the \"sweet spot\" of the bias-variance tradeoff "
   ]
  },
  {
   "cell_type": "code",
   "execution_count": 12,
   "metadata": {},
   "outputs": [],
   "source": [
    "from sklearn.linear_model import LogisticRegression\n",
    "from sklearn.linear_model import LogisticRegressionCV\n",
    "#5-fold CV\n",
    "LRCV = LogisticRegressionCV(cv=5,solver='liblinear').fit(X_train,y_train)"
   ]
  },
  {
   "cell_type": "code",
   "execution_count": 13,
   "metadata": {},
   "outputs": [
    {
     "data": {
      "text/plain": [
       "array([1.00000000e-04, 7.74263683e-04, 5.99484250e-03, 4.64158883e-02,\n",
       "       3.59381366e-01, 2.78255940e+00, 2.15443469e+01, 1.66810054e+02,\n",
       "       1.29154967e+03, 1.00000000e+04])"
      ]
     },
     "execution_count": 13,
     "metadata": {},
     "output_type": "execute_result"
    }
   ],
   "source": [
    "LRCV.Cs_ #list of inverse of regularization parameter values used for cross-validation"
   ]
  },
  {
   "cell_type": "code",
   "execution_count": 14,
   "metadata": {
    "scrolled": true
   },
   "outputs": [
    {
     "data": {
      "text/plain": [
       "array([[0.97678825, 0.97157745, 0.96920891, 0.96684036, 0.96684036,\n",
       "        0.96684036, 0.96778778, 0.96731407, 0.96636665, 0.96684036],\n",
       "       [0.97345972, 0.97156398, 0.97203791, 0.97109005, 0.97109005,\n",
       "        0.97061611, 0.97109005, 0.97156398, 0.97156398, 0.97109005],\n",
       "       [0.97677725, 0.97393365, 0.97156398, 0.97061611, 0.97251185,\n",
       "        0.97109005, 0.97061611, 0.97156398, 0.97109005, 0.97014218],\n",
       "       [0.98009479, 0.97203791, 0.97014218, 0.96919431, 0.96919431,\n",
       "        0.96919431, 0.96872038, 0.97061611, 0.97014218, 0.96824645],\n",
       "       [0.97298578, 0.97251185, 0.97109005, 0.96966825, 0.96919431,\n",
       "        0.96919431, 0.96824645, 0.96824645, 0.96919431, 0.96824645]])"
      ]
     },
     "execution_count": 14,
     "metadata": {},
     "output_type": "execute_result"
    }
   ],
   "source": [
    "LRCV.scores_[6] #shows the score for each fold"
   ]
  },
  {
   "cell_type": "code",
   "execution_count": 15,
   "metadata": {},
   "outputs": [
    {
     "data": {
      "text/plain": [
       "array([0.97602116, 0.97232497, 0.97080861, 0.96948182, 0.96976618,\n",
       "       0.96938703, 0.96929215, 0.96986092, 0.96967143, 0.9689131 ])"
      ]
     },
     "execution_count": 15,
     "metadata": {},
     "output_type": "execute_result"
    }
   ],
   "source": [
    "LRCV.scores_[6].mean(axis = 0)"
   ]
  },
  {
   "cell_type": "code",
   "execution_count": 175,
   "metadata": {},
   "outputs": [
    {
     "data": {
      "text/plain": [
       "array([0.0001])"
      ]
     },
     "execution_count": 175,
     "metadata": {},
     "output_type": "execute_result"
    }
   ],
   "source": [
    "LRCV.C_ #best value"
   ]
  },
  {
   "cell_type": "markdown",
   "metadata": {},
   "source": [
    "Using the default parameters above, we plot the validation curve and training curve to see the behavior of the curves. Gives an idea of which \"range\" of hyperparameter would be a good fit. The best value of hyperparameter that mapped to the best score was C = 0.0001"
   ]
  },
  {
   "cell_type": "code",
   "execution_count": 16,
   "metadata": {},
   "outputs": [],
   "source": [
    "from sklearn.model_selection import validation_curve\n",
    "train_scores, validation_scores= validation_curve(LogisticRegression(solver='liblinear'), X_train, y_train, \n",
    "                                             param_name = \"C\", param_range = LRCV.Cs_,scoring = \"accuracy\")"
   ]
  },
  {
   "cell_type": "code",
   "execution_count": 17,
   "metadata": {},
   "outputs": [],
   "source": [
    "train_scores_mean = np.mean(train_scores, axis=1)\n",
    "train_scores_std = np.std(train_scores, axis=1)\n",
    "validation_scores_mean = np.mean(validation_scores, axis=1)\n",
    "validation_scores_std = np.std(validation_scores, axis=1)"
   ]
  },
  {
   "cell_type": "code",
   "execution_count": 18,
   "metadata": {},
   "outputs": [
    {
     "data": {
      "image/png": "[encoded data removed]",
      "text/plain": [
       "<Figure size 432x288 with 1 Axes>"
      ]
     },
     "metadata": {
      "needs_background": "light"
     },
     "output_type": "display_data"
    }
   ],
   "source": [
    "plt.title(\"Validation Curve with Logistic Regression\")\n",
    "plt.xlabel(\"hyperparameter\")\n",
    "plt.ylabel(\"Score\")\n",
    "plt.semilogx(\n",
    "    LRCV.Cs_, train_scores_mean, label=\"Training score\", color=\"darkorange\", lw=2\n",
    ")\n",
    "plt.semilogx(\n",
    "    LRCV.Cs_, validation_scores_mean, label=\"Cross-validation score\", color=\"navy\", lw=2\n",
    ")\n",
    "plt.legend(loc=\"best\")\n",
    "plt.show()"
   ]
  },
  {
   "cell_type": "markdown",
   "metadata": {},
   "source": [
    "With the best value from the tested values in mind, experiment with three different sets each containing six different values. The focus is to look for the \"peak\" of both training score and cross-validation score."
   ]
  },
  {
   "cell_type": "markdown",
   "metadata": {},
   "source": [
    "#### Set 1"
   ]
  },
  {
   "cell_type": "code",
   "execution_count": 19,
   "metadata": {},
   "outputs": [],
   "source": [
    "param_choice = [7e-4,1e-4,5e-5,1e-5,6e-6,1e-6]\n",
    "train_scores, validation_scores= validation_curve(LogisticRegression(solver='liblinear'), X_train, y_train,\n",
    "                                                  param_name = \"C\", param_range = param_choice, scoring = \"accuracy\")"
   ]
  },
  {
   "cell_type": "code",
   "execution_count": 20,
   "metadata": {},
   "outputs": [],
   "source": [
    "train_scores_mean = np.mean(train_scores, axis=1)\n",
    "validation_scores_mean = np.mean(validation_scores, axis=1)"
   ]
  },
  {
   "cell_type": "code",
   "execution_count": 176,
   "metadata": {},
   "outputs": [
    {
     "data": {
      "image/png": "[encoded data removed]",
      "text/plain": [
       "<Figure size 432x288 with 1 Axes>"
      ]
     },
     "metadata": {
      "needs_background": "light"
     },
     "output_type": "display_data"
    }
   ],
   "source": [
    "plt.title(\"Validation Curve Trial #1\")\n",
    "plt.xlabel(\"Hyperparameter\")\n",
    "plt.ylabel(\"Accuracy Score\")\n",
    "plt.semilogx(param_choice, train_scores_mean, label=\"Training score\", color=\"darkorange\", lw=2)\n",
    "plt.semilogx(param_choice, validation_scores_mean, label=\"Cross-validation score\", color=\"navy\", lw=2)\n",
    "plt.legend(loc=\"best\")\n",
    "plt.savefig('trial_1.png',dpi=150)\n",
    "plt.show()"
   ]
  },
  {
   "cell_type": "markdown",
   "metadata": {},
   "source": [
    "$\\Rightarrow$ the accuracy reaches one and then decreases as hyperparameter becomes smaller. On the other hand, the accuaracy for cross-validation increases as hyperparameter gets smaller but decreases agin after 5e-5. Suggesting that might be the lowest point of our cross validation curve when plotted against error"
   ]
  },
  {
   "cell_type": "markdown",
   "metadata": {},
   "source": [
    "#### Set 2"
   ]
  },
  {
   "cell_type": "code",
   "execution_count": 22,
   "metadata": {},
   "outputs": [],
   "source": [
    "param_choice2 = [8e-3,1e-4,1e-5,5e-8, 5e-9,5e-10]\n",
    "\n",
    "train_scores2, validation_scores2= validation_curve(LogisticRegression(solver='liblinear'), X_train, y_train, \n",
    "                                             param_name = \"C\", param_range = param_choice2,scoring = \"accuracy\")"
   ]
  },
  {
   "cell_type": "code",
   "execution_count": 177,
   "metadata": {},
   "outputs": [
    {
     "data": {
      "image/png": "[encoded data removed]",
      "text/plain": [
       "<Figure size 432x288 with 1 Axes>"
      ]
     },
     "metadata": {
      "needs_background": "light"
     },
     "output_type": "display_data"
    }
   ],
   "source": [
    "train_scores_mean2 = np.mean(train_scores2, axis=1)\n",
    "validation_scores_mean2 = np.mean(validation_scores2, axis=1)\n",
    "\n",
    "plt.title(\"Validation Curve Trial #2\")\n",
    "plt.xlabel(\"Hyperparameter\")\n",
    "plt.ylabel(\"Accuracy Score\")\n",
    "plt.semilogx(param_choice2, train_scores_mean2, label=\"Training score\", color=\"darkorange\", lw=2)\n",
    "plt.semilogx(param_choice2, validation_scores_mean2, label=\"Cross-validation score\", color=\"navy\", lw=2)\n",
    "plt.legend(loc=\"best\")\n",
    "plt.savefig('trial_2.png',dpi=150)\n",
    "plt.show()"
   ]
  },
  {
   "cell_type": "markdown",
   "metadata": {},
   "source": [
    "**Note**: Cross-validation curve peaks at $C=1\\times10^{-5}$ before declinin while training score continues to increase beyond this point. This is an indication of overfitting to noise in the training data."
   ]
  },
  {
   "cell_type": "markdown",
   "metadata": {},
   "source": [
    "#### Set 3"
   ]
  },
  {
   "cell_type": "code",
   "execution_count": 78,
   "metadata": {},
   "outputs": [],
   "source": [
    "param_choice3 = [5e-4,1e-4,8e-5,5e-5,3e-5,1e-5]\n",
    "\n",
    "train_scores3, validation_scores3= validation_curve(LogisticRegression(solver='liblinear'), X_train, y_train, \n",
    "                                             param_name = \"C\", param_range = param_choice3,scoring = \"accuracy\")"
   ]
  },
  {
   "cell_type": "code",
   "execution_count": 178,
   "metadata": {},
   "outputs": [
    {
     "data": {
      "image/png": "[encoded data removed]",
      "text/plain": [
       "<Figure size 432x288 with 1 Axes>"
      ]
     },
     "metadata": {
      "needs_background": "light"
     },
     "output_type": "display_data"
    }
   ],
   "source": [
    "train_scores_mean3 = np.mean(train_scores3, axis=1)\n",
    "validation_scores_mean3 = np.mean(validation_scores3, axis=1)\n",
    "\n",
    "plt.title(\"Validation Curve Trial #3\")\n",
    "plt.xlabel(\"Hyperparameter\")\n",
    "plt.ylabel(\"Accuracy Score\")\n",
    "plt.semilogx(param_choice3, train_scores_mean3, label=\"Training score\", color=\"darkorange\", lw=2)\n",
    "plt.semilogx(param_choice3, validation_scores_mean3, label=\"Cross-validation score\", color=\"navy\", lw=2)\n",
    "plt.legend(loc=\"best\")\n",
    "plt.savefig('trial_4.png',dpi=150)\n",
    "plt.show()"
   ]
  },
  {
   "cell_type": "code",
   "execution_count": 80,
   "metadata": {},
   "outputs": [
    {
     "data": {
      "text/plain": [
       "(array([0.99857833, 0.99466873, 0.99379205, 0.99237038, 0.99111459,\n",
       "        0.98891099]),\n",
       " array([0.97374659, 0.97602116, 0.97630556, 0.97734817, 0.97772727,\n",
       "        0.97848561]))"
      ]
     },
     "execution_count": 80,
     "metadata": {},
     "output_type": "execute_result"
    }
   ],
   "source": [
    "train_scores_mean3, validation_scores_mean3"
   ]
  },
  {
   "cell_type": "markdown",
   "metadata": {},
   "source": [
    "$\\Rightarrow$ Conclusion of $\\lambda$ = $1\\times10^{-5}$ as the best hyperparameter"
   ]
  },
  {
   "cell_type": "markdown",
   "metadata": {},
   "source": [
    "### 4. Cross Validation for Tuning Hyperparameter Value (Absolute)"
   ]
  },
  {
   "cell_type": "markdown",
   "metadata": {},
   "source": [
    "Same analysis as above except this section will be utilizing $\\ell_1$ norm"
   ]
  },
  {
   "cell_type": "code",
   "execution_count": 93,
   "metadata": {},
   "outputs": [],
   "source": [
    "LR_l1 = LogisticRegressionCV(Cs = [1e-4,1e-3,1e-2,1e-1,1.0],penalty = 'l1',solver='liblinear',max_iter=5000)"
   ]
  },
  {
   "cell_type": "code",
   "execution_count": 94,
   "metadata": {},
   "outputs": [
    {
     "data": {
      "text/plain": [
       "LogisticRegressionCV(Cs=[0.0001, 0.001, 0.01, 0.1, 1.0], max_iter=5000,\n",
       "                     penalty='l1', solver='liblinear')"
      ]
     },
     "execution_count": 94,
     "metadata": {},
     "output_type": "execute_result"
    }
   ],
   "source": [
    "LR_l1.fit(X_train,y_train)"
   ]
  },
  {
   "cell_type": "code",
   "execution_count": 95,
   "metadata": {},
   "outputs": [
    {
     "data": {
      "text/plain": [
       "{6: array([[0.95973472, 0.97252487, 0.97536712, 0.96826149, 0.9687352 ],\n",
       "        [0.96777251, 0.98246445, 0.97677725, 0.96919431, 0.97156398],\n",
       "        [0.96445498, 0.97725118, 0.97914692, 0.97345972, 0.97393365],\n",
       "        [0.96161137, 0.97867299, 0.97725118, 0.97203791, 0.97440758],\n",
       "        [0.96777251, 0.97582938, 0.97251185, 0.96966825, 0.96872038]])}"
      ]
     },
     "execution_count": 95,
     "metadata": {},
     "output_type": "execute_result"
    }
   ],
   "source": [
    "LR_l1.scores_"
   ]
  },
  {
   "cell_type": "code",
   "execution_count": 96,
   "metadata": {},
   "outputs": [
    {
     "data": {
      "text/plain": [
       "array([0.001])"
      ]
     },
     "execution_count": 96,
     "metadata": {},
     "output_type": "execute_result"
    }
   ],
   "source": [
    "LR_l1.C_"
   ]
  },
  {
   "cell_type": "code",
   "execution_count": 97,
   "metadata": {},
   "outputs": [],
   "source": [
    "l1_train_score, l1_valscore = validation_curve(LogisticRegression(penalty = 'l1',solver = \"liblinear\",max_iter=5000), \n",
    "                                               X_train,y_train, param_name = \"C\", \n",
    "                                               param_range = [1e-6,1e-4,1e-3,1e-2,1e-1,1.0],scoring = \"accuracy\")"
   ]
  },
  {
   "cell_type": "code",
   "execution_count": 180,
   "metadata": {},
   "outputs": [
    {
     "data": {
      "image/png": "[encoded data removed]",
      "text/plain": [
       "<Figure size 432x288 with 1 Axes>"
      ]
     },
     "metadata": {
      "needs_background": "light"
     },
     "output_type": "display_data"
    }
   ],
   "source": [
    "l1_train_score_m = np.mean(l1_train_score, axis=1)\n",
    "l1_val_scores_m = np.mean(l1_valscore, axis=1)\n",
    "\n",
    "plt.title(\"Validation Curve (l1)\")\n",
    "plt.xlabel(\"Hyperparameter (l1)\")\n",
    "plt.ylabel(\"Accuracy Score\")\n",
    "plt.semilogx([1e-6,1e-4,1e-3,1e-2,1e-1,1.0], l1_train_score_m, label=\"Training score\", color=\"darkorange\", lw=2)\n",
    "plt.semilogx([1e-6,1e-4,1e-3,1e-2,1e-1,1.0], l1_val_scores_m, label=\"Cross-validation score\", color=\"navy\", lw=2)\n",
    "plt.legend(loc=\"best\")\n",
    "plt.savefig('lasso1.png',dpi=150)\n",
    "plt.show()"
   ]
  },
  {
   "cell_type": "markdown",
   "metadata": {},
   "source": [
    "The cross-validation curve seems to have a peak in accuracy with $10^{-3}$ according to the two Lasso regression outputs. To dive into this, do a verification round where the hyperparameters are around $10^{-3}$"
   ]
  },
  {
   "cell_type": "code",
   "execution_count": 104,
   "metadata": {},
   "outputs": [],
   "source": [
    "l1_train_score2, l1_val_scores2 = validation_curve(LogisticRegression(penalty = 'l1',solver = \"liblinear\",max_iter=5000), X_train, \n",
    "                                                  y_train, param_name = \"C\", param_range = [1e-4,1e-3,3e-3,5e-3,8e-3,1e-2],scoring = \"accuracy\")"
   ]
  },
  {
   "cell_type": "code",
   "execution_count": 182,
   "metadata": {},
   "outputs": [
    {
     "data": {
      "image/png": "[encoded data removed]",
      "text/plain": [
       "<Figure size 432x288 with 1 Axes>"
      ]
     },
     "metadata": {
      "needs_background": "light"
     },
     "output_type": "display_data"
    }
   ],
   "source": [
    "l1_train_score_m2 = np.mean(l1_train_score2, axis=1)\n",
    "l1_val_scores_m2 = np.mean(l1_val_scores2, axis=1)\n",
    "\n",
    "plt.title(\"Validation Curve (l1)\")\n",
    "plt.xlabel(\"Hyperparameter (l1)\")\n",
    "plt.ylabel(\"Score\")\n",
    "plt.semilogx([1e-4,1e-3,3e-3,5e-3,8e-3,1e-2], l1_train_score_m2, label=\"Training score\", color=\"darkorange\", lw=2)\n",
    "plt.semilogx([1e-4,1e-3,3e-3,5e-3,8e-3,1e-2], l1_val_scores_m2, label=\"Cross-validation score\", color=\"navy\", lw=2)\n",
    "plt.legend(loc=\"best\")\n",
    "plt.savefig('lasso2.png',dpi=150)\n",
    "plt.show()"
   ]
  },
  {
   "cell_type": "code",
   "execution_count": 106,
   "metadata": {},
   "outputs": [
    {
     "data": {
      "text/plain": [
       "(array([0.96746755, 0.98379302, 0.98729978, 0.98907686, 0.99168325,\n",
       "        0.99267842]),\n",
       " array([0.96417439, 0.97744332, 0.97905447, 0.97848566, 0.977443  ,\n",
       "        0.97696911]))"
      ]
     },
     "execution_count": 106,
     "metadata": {},
     "output_type": "execute_result"
    }
   ],
   "source": [
    "l1_train_score_m2,l1_val_scores_m2"
   ]
  },
  {
   "cell_type": "code",
   "execution_count": 107,
   "metadata": {},
   "outputs": [
    {
     "data": {
      "text/plain": [
       "LogisticRegressionCV(Cs=[0.0001, 0.001, 0.003, 0.005, 0.008, 0.01],\n",
       "                     max_iter=5000, penalty='l1', solver='liblinear')"
      ]
     },
     "execution_count": 107,
     "metadata": {},
     "output_type": "execute_result"
    }
   ],
   "source": [
    "l1_verify = LogisticRegressionCV(Cs = [1e-4,1e-3,3e-3,5e-3,8e-3,1e-2],penalty = 'l1',solver='liblinear',max_iter=5000)\n",
    "l1_verify.fit(X_train,y_train)"
   ]
  },
  {
   "cell_type": "code",
   "execution_count": 108,
   "metadata": {},
   "outputs": [
    {
     "data": {
      "text/plain": [
       "array([0.003])"
      ]
     },
     "execution_count": 108,
     "metadata": {},
     "output_type": "execute_result"
    }
   ],
   "source": [
    "l1_verify.C_"
   ]
  },
  {
   "cell_type": "markdown",
   "metadata": {},
   "source": [
    "$\\Rightarrow$ We verify from the graph and also running the last LogisticRegressionCV to confirm that the hyperparameter that minimizes that cross-validation score indeed is around $10^{-1}$. In fact, $3\\times10^{-3}$ seems to have the best average accuracy. "
   ]
  },
  {
   "cell_type": "markdown",
   "metadata": {},
   "source": [
    "### 5. Regularization Comparison"
   ]
  },
  {
   "cell_type": "markdown",
   "metadata": {},
   "source": [
    "Using \"best\" hyperparameter $C_{\\ell2}=1\\times10^{-5}$ for $\\ell_2$ regularization and $C_{\\ell1}=3\\times10^{-3}$ for $\\ell_1$ regularization, we compare the two regularization method by using test data set. "
   ]
  },
  {
   "cell_type": "code",
   "execution_count": 91,
   "metadata": {},
   "outputs": [
    {
     "data": {
      "text/plain": [
       "LogisticRegression(C=0.003, solver='liblinear')"
      ]
     },
     "execution_count": 91,
     "metadata": {},
     "output_type": "execute_result"
    }
   ],
   "source": [
    "## best l2 regularization model\n",
    "l2_choice = LogisticRegression(C = 1e-5,solver = 'liblinear')\n",
    "l2_choice.fit(X_train,y_train)\n",
    "l1_choice = LogisticRegression(C=3e-3, solver = 'liblinear')\n",
    "l1_choice.fit(X_train,y_train)"
   ]
  },
  {
   "cell_type": "code",
   "execution_count": 152,
   "metadata": {},
   "outputs": [],
   "source": [
    "#test data\n",
    "#l2\n",
    "predictions_l2 = l2_choice.predict(X_test)\n",
    "l2_accuracy = l2_choice.score(X_test,y_test)\n",
    "\n",
    "#1\n",
    "predictions_l1 = l1_choice.predict(X_test)\n",
    "l1_accuracy = l1_choice.score(X_test,y_test)"
   ]
  },
  {
   "cell_type": "code",
   "execution_count": 153,
   "metadata": {},
   "outputs": [
    {
     "data": {
      "text/plain": [
       "0.9829416224412434"
      ]
     },
     "execution_count": 153,
     "metadata": {},
     "output_type": "execute_result"
    }
   ],
   "source": [
    "l2_accuracy"
   ]
  },
  {
   "cell_type": "code",
   "execution_count": 154,
   "metadata": {},
   "outputs": [
    {
     "data": {
      "text/plain": [
       "0.9761182714177407"
      ]
     },
     "execution_count": 154,
     "metadata": {},
     "output_type": "execute_result"
    }
   ],
   "source": [
    "l1_accuracy"
   ]
  },
  {
   "cell_type": "markdown",
   "metadata": {},
   "source": [
    "Two outputs above tells us that the $l2$ regularization is better than $l1$ regularization. To further analyze before coming to a conclusion, we dive deeper into analyzing the output"
   ]
  },
  {
   "cell_type": "code",
   "execution_count": 155,
   "metadata": {},
   "outputs": [
    {
     "name": "stdout",
     "output_type": "stream",
     "text": [
      "              precision    recall  f1-score   support\n",
      "\n",
      "           5       0.99      0.98      0.98      1232\n",
      "           6       0.98      0.99      0.98      1406\n",
      "\n",
      "    accuracy                           0.98      2638\n",
      "   macro avg       0.98      0.98      0.98      2638\n",
      "weighted avg       0.98      0.98      0.98      2638\n",
      "\n"
     ]
    }
   ],
   "source": [
    "from sklearn.metrics import classification_report\n",
    "print(classification_report(y_test, predictions_l2))"
   ]
  },
  {
   "cell_type": "code",
   "execution_count": 156,
   "metadata": {},
   "outputs": [
    {
     "name": "stdout",
     "output_type": "stream",
     "text": [
      "              precision    recall  f1-score   support\n",
      "\n",
      "           5       0.97      0.97      0.97      1232\n",
      "           6       0.98      0.98      0.98      1406\n",
      "\n",
      "    accuracy                           0.98      2638\n",
      "   macro avg       0.98      0.98      0.98      2638\n",
      "weighted avg       0.98      0.98      0.98      2638\n",
      "\n"
     ]
    }
   ],
   "source": [
    "print(classification_report(y_test,predictions_l1))"
   ]
  },
  {
   "cell_type": "code",
   "execution_count": 162,
   "metadata": {},
   "outputs": [
    {
     "data": {
      "text/plain": [
       "array([[1201,   31],\n",
       "       [  32, 1374]])"
      ]
     },
     "execution_count": 162,
     "metadata": {},
     "output_type": "execute_result"
    }
   ],
   "source": [
    "from sklearn import metrics\n",
    "\n",
    "cm1 = metrics.confusion_matrix(y_test,predictions_l1)\n",
    "cm1"
   ]
  },
  {
   "cell_type": "code",
   "execution_count": 163,
   "metadata": {},
   "outputs": [
    {
     "data": {
      "text/plain": [
       "array([[1204,   28],\n",
       "       [  17, 1389]])"
      ]
     },
     "execution_count": 163,
     "metadata": {},
     "output_type": "execute_result"
    }
   ],
   "source": [
    "cm2 = metrics.confusion_matrix(y_test,predictions_l2)\n",
    "cm2"
   ]
  },
  {
   "cell_type": "code",
   "execution_count": 157,
   "metadata": {},
   "outputs": [],
   "source": [
    "y_df = pd.DataFrame(data = {\"l2_predictions\":predictions_l2,\"l1_predictions\":predictions_l1, \"y\": y_test})"
   ]
  },
  {
   "cell_type": "code",
   "execution_count": 158,
   "metadata": {
    "scrolled": false
   },
   "outputs": [
    {
     "data": {
      "text/plain": [
       "45"
      ]
     },
     "execution_count": 158,
     "metadata": {},
     "output_type": "execute_result"
    }
   ],
   "source": [
    "np.count_nonzero(y_df[\"l2_predictions\"]!=y_df[\"y\"])"
   ]
  },
  {
   "cell_type": "code",
   "execution_count": 159,
   "metadata": {},
   "outputs": [
    {
     "data": {
      "text/plain": [
       "63"
      ]
     },
     "execution_count": 159,
     "metadata": {},
     "output_type": "execute_result"
    }
   ],
   "source": [
    "np.count_nonzero(y_df[\"l1_predictions\"]!=y_df[\"y\"])"
   ]
  },
  {
   "cell_type": "markdown",
   "metadata": {},
   "source": [
    "$\\Rightarrow$ **Conclusion**: The classification reports show that precision was same for number 6 for both regularization, but $\\ell_2$ regularization had a higher precision of 0.99 than $\\ell_1$ regularization precision of 0.98 for classifying number 5. USing the confusion matrix, we see that the number of misclassified 5's were substantially smaller for $\\ell_2$ than $\\ell_1$. Because $\\ell_2$ regularization had smaller value of overall misclassification (=45) and a higher accuracy score, we conclude that $\\ell_2$ regularization would be a better choice. "
   ]
  },
  {
   "cell_type": "markdown",
   "metadata": {},
   "source": [
    "### 6. Visualize misclassified images"
   ]
  },
  {
   "cell_type": "code",
   "execution_count": 165,
   "metadata": {},
   "outputs": [],
   "source": [
    "index = 0\n",
    "misclassified = []\n",
    "for index, (label,predict) in enumerate(zip(y_test,predictions_l2)):\n",
    "    if label!=predict:\n",
    "        misclassified.append(index)\n",
    "        index = index+1"
   ]
  },
  {
   "cell_type": "code",
   "execution_count": 174,
   "metadata": {},
   "outputs": [
    {
     "data": {
      "image/png": "[encoded data removed]",
      "text/plain": [
       "<Figure size 1440x288 with 5 Axes>"
      ]
     },
     "metadata": {
      "needs_background": "light"
     },
     "output_type": "display_data"
    }
   ],
   "source": [
    "plt.figure(figsize=(20,4))\n",
    "\n",
    "for plotindex,badindex in enumerate(misclassified[0:5]):\n",
    "    plt.subplot(1,5,plotindex+1)\n",
    "    plt.imshow(np.reshape(X_test[badindex],(28,28)),cmap=plt.cm.hot)\n",
    "    plt.title(\"Predicted:{}, True{} \\n\".format(predictions_l2[badindex], y_test[badindex]),fontsize=15)"
   ]
  }
 ],
 "metadata": {
  "kernelspec": {
   "display_name": "Python 3",
   "language": "python",
   "name": "python3"
  },
  "language_info": {
   "codemirror_mode": {
    "name": "ipython",
    "version": 3
   },
   "file_extension": ".py",
   "mimetype": "text/x-python",
   "name": "python",
   "nbconvert_exporter": "python",
   "pygments_lexer": "ipython3",
   "version": "3.8.3"
  }
 },
 "nbformat": 4,
 "nbformat_minor": 4
}
